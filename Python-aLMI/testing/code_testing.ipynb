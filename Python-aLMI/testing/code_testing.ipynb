{
 "cells": [
  {
   "cell_type": "markdown",
   "metadata": {},
   "source": [
    "# Testing the Python aLMI code\n",
    "\n",
    "**Author:** Eric Lehmann, CSIRO  \n",
    "**E-mail:** eric.lehmann@csiro.au  \n",
    "**Date:** March 2020  \n",
    "\n",
    "## Summary\n",
    "\n",
    "This notebook was written to carry out initial testing of the aLMI Python code on the VDI.\n",
    "\n",
    "The original Python code was cloned from https://bitbucket.csiro.au/projects/CMAR_RS/repos/ereefs-lmi-python/. It has been converted from Python 2 to Python 3 using `2to3` functionality, and subsequently updated / debugged to enable its use on the NCI's high-performance computing facility.\n",
    "\n",
    "This notebook was created / launched after executing the following commands in a VDI terminal:\n",
    "\n",
    "```\n",
    "module use /g/data/v10/public/modules/modulefiles\n",
    "module load dea\n",
    "export PYTHONPATH=/path/to/install/dir/lib/python3.6/site-packages/:$PYTHONPATH\n",
    "jupyter lab    # or jupyter notebook\n",
    "```\n",
    "\n",
    "The command `module load dea` automatically loads up Python 3.6.7. See also below for further notes on exporting the Python path variable.\n",
    "\n",
    "\n",
    "## Preliminaries\n",
    "\n",
    "The aLMI code below requires the Python package `pyhdf`, which is not installed by default on the VDI or NCI (Gadi).\n",
    "\n",
    "This package thus requires a manual install, which can be performed as follows. First, open a new terminal (NCI or VDI) and type in the following commands:\n",
    "\n",
    "```\n",
    "module load python3/3.6.7      # VDI: use python3/3.6.7 -- Gadi: use python3/3.7.4\n",
    "module load hdf4/4.2.13        # VDI: use hdf4/4.2.13 -- Gadi: use hdf4/4.2.14\n",
    "pip3 install -v --no-binary :all: --prefix=/path/to/install/dir pyhdf     # replace prefix string with relevant path\n",
    "```\n",
    "\n",
    "The `pyhdf` package can be installed, for instance, in the user's home directory. For instance, in Eric's installation of `pyhdf`, the prefix string `/path/to/install/dir` was replaced with `/home/599/eal599/.local/`.\n",
    "\n",
    "Once the `pyhdf` package is installed, the following command needs to be executed prior to running the aLMI code:\n",
    "\n",
    "```\n",
    "export PYTHONPATH=/path/to/install/dir/lib/python3.6/site-packages/:$PYTHONPATH      # VDI: use python3.6 -- Gadi: use python3.7\n",
    "```\n",
    "\n",
    "(Here again, replace the string `/path/to/install/dir` with the relevant path to the `pyhdf` install directory -- same as above.)\n",
    "\n",
    "This allows Python to locate the relevant `pyhdf` files when needed during execution of the aLMI code.\n",
    "\n",
    "\n",
    "## Code testing\n",
    "\n",
    "### Code and parameter files\n",
    "\n",
    "The main Python aLMI function (`aLMI_main.py`) relies on three input arguments:\n",
    "\n",
    " - input file of reflectance data (.nc or .hdf file)\n",
    " - .ini file of input parameters for the aLMI run, which, among others, contains the path to the SIOP sets file (.nc file) to use\n",
    " - path and name of the output file (.nc or .hdf) where the aLMI results are to be saved.\n",
    " \n",
    "Executing the main aLMI function also calls upon a series of subroutines provided in various .py files, as listed below."
   ]
  },
  {
   "cell_type": "code",
   "execution_count": 1,
   "metadata": {},
   "outputs": [
    {
     "name": "stdout",
     "output_type": "stream",
     "text": [
      "-rwxr--r-- 1 eal599 CSIRO  46K Mar 17 10:09 ../aLMI_main.py\n",
      "-rwxr--r-- 1 eal599 CSIRO 1.9K Mar  4 09:05 ../calcCost.py\n",
      "-rwxr--r-- 1 eal599 CSIRO 4.0K Mar  4 09:05 ../calc_kd_SD.py\n",
      "-rwxr--r-- 1 eal599 CSIRO 1.3K Mar  4 09:05 ../calc_mu_d.py\n",
      "-rwxr--r-- 1 eal599 CSIRO 1.1K Mar  4 09:05 ../calcReflForward.py\n",
      "-rwxr--r-- 1 eal599 CSIRO 1.1K Mar  4 09:05 ../calcUBackward.py\n",
      "-rwxr--r-- 1 eal599 CSIRO 3.8K Mar  4 09:05 ../calcUForward.py\n",
      "-rwxr--r-- 1 eal599 CSIRO 1.8K Mar  4 09:05 ../calcY.py\n",
      "-rwxr--r-- 1 eal599 CSIRO  20K Mar 17 14:01 ../chunkProcessLMI.py\n",
      "-rwxr--r-- 1 eal599 CSIRO 7.0K Mar  4 16:25 ../configUtils.py\n",
      "-rwxr--r-- 1 eal599 CSIRO  48K Mar 12 15:30 ../generic_io.py\n",
      "-rwxr--r-- 1 eal599 CSIRO 5.6K Mar 12 13:21 ../lmi_io.py\n",
      "-rwxr--r-- 1 eal599 CSIRO  878 Mar  4 09:05 ../RrsAboveToBelow.py\n",
      "-rwxr--r-- 1 eal599 CSIRO 2.3K Mar  4 09:05 ../RrsAboveToBelow_test.py\n",
      "-rwxr--r-- 1 eal599 CSIRO  880 Mar  4 09:05 ../RrsBelowToAbove.py\n",
      "-rwxr--r-- 1 eal599 CSIRO 8.1K Mar  4 09:05 ../SIOP_sets_load.py\n",
      "-rwxr--r-- 1 eal599 CSIRO 4.5K Mar 17 10:07 ../svd_LMI.py\n",
      "-rwxr--r-- 1 eal599 CSIRO 5.5K Mar  4 09:05 ../var_dump.py\n",
      "-rwxr--r-- 1 eal599 CSIRO 3.0K Mar 16 10:00 ../wavelengthsToVarNames.py\n"
     ]
    }
   ],
   "source": [
    "SRC_DIR = \"..\"    # where the source code is located, one directory up\n",
    "\n",
    "!ls -lh {SRC_DIR}/*.py"
   ]
  },
  {
   "cell_type": "markdown",
   "metadata": {},
   "source": [
    "With the Eric's VDI setup, the .ini files can be found in a sub-directory `ini_files` here:"
   ]
  },
  {
   "cell_type": "code",
   "execution_count": 2,
   "metadata": {},
   "outputs": [
    {
     "name": "stdout",
     "output_type": "stream",
     "text": [
      "total 16K\n",
      "-rw-r--r-- 1 eal599 CSIRO 3.0K Mar  4 12:46 aLMI_config.ini\n",
      "-rw-r--r-- 1 eal599 CSIRO 3.2K Mar 12 14:26 aLMI_config_VDItest.ini\n",
      "-rw-r--r-- 1 eal599 CSIRO 3.1K Mar 13 16:45 aLMI_config_VDItest_nc.ini\n",
      "-rw-r--r-- 1 eal599 CSIRO 2.8K Jan 20  2016 MODIS_below_config.ini\n"
     ]
    }
   ],
   "source": [
    "!ls -lh {SRC_DIR}/ini_files"
   ]
  },
  {
   "cell_type": "markdown",
   "metadata": {},
   "source": [
    "And some example input data files (file of remote sensing reflectances, and SIOP sets) can be accessed here:"
   ]
  },
  {
   "cell_type": "code",
   "execution_count": 3,
   "metadata": {},
   "outputs": [
    {
     "name": "stdout",
     "output_type": "stream",
     "text": [
      "total 1.2G\n",
      "-rw-r--r-- 1 eal599 r78 163M Mar  4 15:22 A20120403_0410.20130805213444.L2.ANN_P134_V20140704.hdf\n",
      "-rw-r--r-- 1 eal599 r78  11K Mar  4 15:26 A20120403_0410.20130805213444.L2.ANN_P134_V20140704.hdf.dump\n",
      "-rw-r--r-- 1 eal599 r78 413M Mar  4 15:22 A20120403_0410.20130805213444.L2.ANN_P134_V20140704.MIM_CLT4_gLee_412_748.hdf\n",
      "-rw-r--r-- 1 eal599 r78  28K Mar  4 15:27 A20120403_0410.20130805213444.L2.ANN_P134_V20140704.MIM_CLT4_gLee_412_748.hdf.dump\n",
      "-rw-r--r-- 1 eal599 r78  96M Mar  4 15:25 A20120403_0410.20150928173107.L2OC_BASE.ANN_P134_V20140704.nc\n",
      "-rw-r--r-- 1 eal599 r78  11K Mar 13 16:52 A20120403_0410.20150928173107.L2OC_BASE.ANN_P134_V20140704.nc.dump\n",
      "-rw-r--r-- 1 eal599 r78 2.3K Mar  4 15:25 A20120403_0410.20150928173107.L2OC_BASE.ANN_P134_V20140704.nc.log\n",
      "-rw-r--r-- 1 eal599 r78 499M Mar  4 15:25 A20120403_0410.20150928173107.L2OC_BASE.ANN_P134_V20140704.PyLMI.nc\n",
      "-rw-r--r-- 1 eal599 r78  93K Mar  4 15:25 A20120403_0410.20150928173107.L2OC_BASE.ANN_P134_V20140704.PyLMI.nc.log\n",
      "-rw-r--r-- 1 eal599 r78  37K Jan 19  2016 siops_10nm_all_CLT4.nc\n",
      "-rw-r--r-- 1 eal599 r78  28K Dec 17  2015 siops_MODIS_all_CLT4.nc\n"
     ]
    }
   ],
   "source": [
    "!ls -lh /g/data/r78/eal599/iWQ_aLMI/data"
   ]
  },
  {
   "cell_type": "markdown",
   "metadata": {},
   "source": [
    "These files are stored in /g/data due to the limited space available (2GB limit) in home directories on the VDI. All of these example files were found and collected from various subdirectories within `/g/data/u83/code/ereefs/`.\n",
    "\n",
    "A summary of what these files are is provided below:\n",
    "\n",
    " - `A20120403_0410.20130805213444.L2.ANN_P134_V20140704.hdf`: file of input reflectances (.hdf file)\n",
    " - `A20120403_0410.20130805213444.L2.ANN_P134_V20140704.MIM_CLT4_gLee_412_748.hdf`: aLMI output file produced by the IDL code (for comparison)\n",
    " - `A20120403_0410.20150928173107.L2OC_BASE.ANN_P134_V20140704.nc`: another file of input reflectances (.nc file)\n",
    " - `A20120403_0410.20150928173107.L2OC_BASE.ANN_P134_V20140704.nc.log`: log file of the (ANN-based) atmospheric correction process that created the previous dataset\n",
    " - `A20120403_0410.20150928173107.L2OC_BASE.ANN_P134_V20140704.PyLMI.nc`: aLMI output file produced by the Python code (for comparison)\n",
    " - `A20120403_0410.20150928173107.L2OC_BASE.ANN_P134_V20140704.PyLMI.nc.log`: log file generated by aLMI (Python) while processing the previous dataset\n",
    " - `... .dump`: text files showing the variables included in the corresponding data files above\n",
    " - `siops_... .nc`: datasets of SIOP sets\n",
    "\n",
    "All the files listed above (.ini, .nc, .hdf, etc.) can be used for the purpose of testing the Python code, as shown below.\n",
    "\n",
    "\n",
    "## Running the tests\n",
    "\n",
    "### \"Unit tests\"\n",
    "\n",
    "In this notebook, we'll run some basic tests on each of the .py functions above to ensure that everything is running smoothly. Each of the `.py`  functions listed above includes a section with some basic test code, which can be executed as follows.\n",
    "\n",
    "(Note that all the .py code needs to be made executable if not already the case: `chmod u+x *.py`).\n",
    "\n",
    "(Note2: in the bash code below, the construct `$?` basically queries the exit flag from the previously run code).\n"
   ]
  },
  {
   "cell_type": "code",
   "execution_count": 4,
   "metadata": {},
   "outputs": [
    {
     "name": "stdout",
     "output_type": "stream",
     "text": [
      "TEST OK\n"
     ]
    }
   ],
   "source": [
    "CHECK_OUTPUT_STR = \"if [[ $? == 0 ]]; then echo \\\"TEST OK\\\"; else echo \\\"TEST FAILED\\\"; fi\"    # command string to execute after running each test\n",
    "\n",
    "!{SRC_DIR}/RrsAboveToBelow.py > ./log_files/RrsAboveToBelow.log; $CHECK_OUTPUT_STR"
   ]
  },
  {
   "cell_type": "code",
   "execution_count": 5,
   "metadata": {},
   "outputs": [
    {
     "name": "stdout",
     "output_type": "stream",
     "text": [
      "TEST OK\n"
     ]
    }
   ],
   "source": [
    "!{SRC_DIR}/RrsBelowToAbove.py > ./log_files/RrsBelowToAbove.log; $CHECK_OUTPUT_STR"
   ]
  },
  {
   "cell_type": "code",
   "execution_count": 6,
   "metadata": {},
   "outputs": [
    {
     "name": "stdout",
     "output_type": "stream",
     "text": [
      "TEST OK\n"
     ]
    }
   ],
   "source": [
    "!{SRC_DIR}/calcCost.py > ./log_files/calcCost.log; $CHECK_OUTPUT_STR"
   ]
  },
  {
   "cell_type": "code",
   "execution_count": 7,
   "metadata": {},
   "outputs": [
    {
     "name": "stdout",
     "output_type": "stream",
     "text": [
      "TEST OK\n"
     ]
    }
   ],
   "source": [
    "!{SRC_DIR}/calcReflForward.py > ./log_files/calcReflForward.log; $CHECK_OUTPUT_STR"
   ]
  },
  {
   "cell_type": "code",
   "execution_count": 8,
   "metadata": {},
   "outputs": [
    {
     "name": "stdout",
     "output_type": "stream",
     "text": [
      "TEST OK\n"
     ]
    }
   ],
   "source": [
    "!{SRC_DIR}/calcUBackward.py > ./log_files/calcUBackward.log; $CHECK_OUTPUT_STR"
   ]
  },
  {
   "cell_type": "code",
   "execution_count": 9,
   "metadata": {},
   "outputs": [
    {
     "name": "stdout",
     "output_type": "stream",
     "text": [
      "TEST OK\n"
     ]
    }
   ],
   "source": [
    "!{SRC_DIR}/calcY.py > ./log_files/calcY.log; $CHECK_OUTPUT_STR"
   ]
  },
  {
   "cell_type": "code",
   "execution_count": 10,
   "metadata": {},
   "outputs": [
    {
     "name": "stdout",
     "output_type": "stream",
     "text": [
      "TEST OK\n"
     ]
    }
   ],
   "source": [
    "!{SRC_DIR}/calc_mu_d.py > ./log_files/calc_mu_d.log; $CHECK_OUTPUT_STR"
   ]
  },
  {
   "cell_type": "code",
   "execution_count": 11,
   "metadata": {},
   "outputs": [
    {
     "name": "stdout",
     "output_type": "stream",
     "text": [
      "TEST OK\n"
     ]
    }
   ],
   "source": [
    "!{SRC_DIR}/svd_LMI.py > ./log_files/svd_LMI.log; $CHECK_OUTPUT_STR"
   ]
  },
  {
   "cell_type": "code",
   "execution_count": 12,
   "metadata": {},
   "outputs": [
    {
     "name": "stdout",
     "output_type": "stream",
     "text": [
      "TEST OK\n"
     ]
    }
   ],
   "source": [
    "!{SRC_DIR}/var_dump.py > ./log_files/var_dump.log; $CHECK_OUTPUT_STR"
   ]
  },
  {
   "cell_type": "markdown",
   "metadata": {},
   "source": [
    "Some of the code files require some input:"
   ]
  },
  {
   "cell_type": "code",
   "execution_count": 13,
   "metadata": {},
   "outputs": [
    {
     "name": "stdout",
     "output_type": "stream",
     "text": [
      "Config file is: \"../ini_files/aLMI_config_VDItest.ini\"\n",
      "Input file is: \"/g/data/r78/eal599/iWQ_aLMI/data/A20120403_0410.20130805213444.L2.ANN_P134_V20140704.hdf\"\n"
     ]
    }
   ],
   "source": [
    "CONFIG_FILE = SRC_DIR + \"/ini_files/aLMI_config_VDItest.ini\"    # example config file\n",
    "INPUT_FILE = SRC_DIR + \"/configUtils.py \" + CONFIG_FILE + \" optionalParameters test_ANN_file\"    # get an example input file from the config .ini file\n",
    "VAR_PREFIX = \"Rrs_\"    # reflectance bands prefix string for this input file -- only used for testing!\n",
    "\n",
    "!echo \"Config file is: \\\"$CONFIG_FILE\\\"\"\n",
    "!echo \"Input file is: \\\"`$INPUT_FILE`\\\"\""
   ]
  },
  {
   "cell_type": "code",
   "execution_count": 14,
   "metadata": {},
   "outputs": [
    {
     "name": "stdout",
     "output_type": "stream",
     "text": [
      "TEST OK\n"
     ]
    }
   ],
   "source": [
    "!{SRC_DIR}/configUtils.py $CONFIG_FILE > ./log_files/configUtils.log; $CHECK_OUTPUT_STR"
   ]
  },
  {
   "cell_type": "code",
   "execution_count": 15,
   "metadata": {},
   "outputs": [
    {
     "name": "stdout",
     "output_type": "stream",
     "text": [
      "TEST OK\n"
     ]
    }
   ],
   "source": [
    "!{SRC_DIR}/calc_kd_SD.py $CONFIG_FILE > ./log_files/calc_kd_SD.log; $CHECK_OUTPUT_STR"
   ]
  },
  {
   "cell_type": "code",
   "execution_count": 16,
   "metadata": {},
   "outputs": [
    {
     "name": "stdout",
     "output_type": "stream",
     "text": [
      "TEST OK\n"
     ]
    }
   ],
   "source": [
    "!{SRC_DIR}/calcUForward.py $CONFIG_FILE > ./log_files/calcUForward.log; $CHECK_OUTPUT_STR"
   ]
  },
  {
   "cell_type": "code",
   "execution_count": 17,
   "metadata": {},
   "outputs": [
    {
     "name": "stdout",
     "output_type": "stream",
     "text": [
      "TEST OK\n"
     ]
    }
   ],
   "source": [
    "!{SRC_DIR}/SIOP_sets_load.py $CONFIG_FILE get_attrs > ./log_files/SIOP_sets_load.log; $CHECK_OUTPUT_STR"
   ]
  },
  {
   "cell_type": "code",
   "execution_count": 18,
   "metadata": {},
   "outputs": [
    {
     "name": "stdout",
     "output_type": "stream",
     "text": [
      "TEST OK\n"
     ]
    }
   ],
   "source": [
    "!{SRC_DIR}/wavelengthsToVarNames.py `$INPUT_FILE` $VAR_PREFIX 412 685 550 > ./log_files/wavelengthsToVarNames.log; $CHECK_OUTPUT_STR"
   ]
  },
  {
   "cell_type": "code",
   "execution_count": 19,
   "metadata": {},
   "outputs": [
    {
     "name": "stdout",
     "output_type": "stream",
     "text": [
      "TEST OK\n"
     ]
    }
   ],
   "source": [
    "!{SRC_DIR}/chunkProcessLMI.py $CONFIG_FILE $VAR_PREFIX > ./log_files/chunkProcessLMI.log; $CHECK_OUTPUT_STR"
   ]
  },
  {
   "cell_type": "markdown",
   "metadata": {},
   "source": [
    "All seems OK so far. The resulting log files can be found in the following directory, and inspected for potential issues:"
   ]
  },
  {
   "cell_type": "code",
   "execution_count": 20,
   "metadata": {},
   "outputs": [
    {
     "name": "stdout",
     "output_type": "stream",
     "text": [
      "total 200K\n",
      "-rw-r--r-- 1 eal599 jr4  349 Mar 17 14:29 calcCost.log\n",
      "-rw-r--r-- 1 eal599 jr4 2.8K Mar 17 14:29 calc_kd_SD.log\n",
      "-rw-r--r-- 1 eal599 jr4  608 Mar 17 14:29 calc_mu_d.log\n",
      "-rw-r--r-- 1 eal599 jr4  264 Mar 17 14:29 calcReflForward.log\n",
      "-rw-r--r-- 1 eal599 jr4  209 Mar 17 14:29 calcUBackward.log\n",
      "-rw-r--r-- 1 eal599 jr4 3.3K Mar 17 14:29 calcUForward.log\n",
      "-rw-r--r-- 1 eal599 jr4 1.1K Mar 17 14:29 calcY.log\n",
      "-rw-r--r-- 1 eal599 jr4 144K Mar 17 14:29 chunkProcessLMI.log\n",
      "-rw-r--r-- 1 eal599 jr4 3.4K Mar 17 14:29 configUtils.log\n",
      "-rw-r--r-- 1 eal599 jr4  156 Mar 17 14:29 RrsAboveToBelow.log\n",
      "-rw-r--r-- 1 eal599 jr4  165 Mar 17 14:29 RrsBelowToAbove.log\n",
      "-rw-r--r-- 1 eal599 jr4 4.0K Mar 17 14:29 SIOP_sets_load.log\n",
      "-rw-r--r-- 1 eal599 jr4 1.4K Mar 17 14:29 svd_LMI.log\n",
      "-rw-r--r-- 1 eal599 jr4  759 Mar 17 14:29 var_dump.log\n",
      "-rw-r--r-- 1 eal599 jr4  337 Mar 17 14:29 wavelengthsToVarNames.log\n"
     ]
    }
   ],
   "source": [
    "!ls -lh ./log_files/"
   ]
  },
  {
   "cell_type": "markdown",
   "metadata": {},
   "source": [
    "### Main aLMI routine -- short test\n",
    "\n",
    "So, all the \"unit tests\" implemented to check the basic functionality of the above Python code files appear to execute properly.\n",
    "\n",
    "This leaves the main aLMI routine `aLMI_main.py`, which can be tested as follows (takes a few minutes):"
   ]
  },
  {
   "cell_type": "code",
   "execution_count": 21,
   "metadata": {},
   "outputs": [
    {
     "name": "stdout",
     "output_type": "stream",
     "text": [
      "TEST OK\n"
     ]
    }
   ],
   "source": [
    "OUTPUT_FILE = \"/g/data/r78/eal599/iWQ_aLMI/code_testing_out/aLMI_main.hdf\"   # save to /g/data due to large output file size\n",
    "\n",
    "!{SRC_DIR}/aLMI_main.py `$INPUT_FILE` $CONFIG_FILE $OUTPUT_FILE -v > ./log_files/aLMI_main.log; $CHECK_OUTPUT_STR"
   ]
  },
  {
   "cell_type": "markdown",
   "metadata": {},
   "source": [
    "So (...and after some code debugging!), the main aLMI routine executes without a hitch. The processing status of the aLMI code has been written to a `.log` file during execution:"
   ]
  },
  {
   "cell_type": "code",
   "execution_count": 22,
   "metadata": {},
   "outputs": [
    {
     "name": "stdout",
     "output_type": "stream",
     "text": [
      "aLMI_main.py:  startTime = 2020-03-17 03:29:25.432278 UTC\n",
      "Verbosity level =  1\n",
      "using lmi_io from /home/599/eal599/_Eric_VDI_/iWQ_aLMI/lmi_io.py\n",
      "using lmi_io.generic_io from /home/599/eal599/_Eric_VDI_/iWQ_aLMI/generic_io.py\n",
      "**** INPUT FILES ****\n",
      "The input file to be used is:  /g/data/r78/eal599/iWQ_aLMI/data/A20120403_0410.20130805213444.L2.ANN_P134_V20140704.hdf\n",
      "The config file to be used is:  ../ini_files/aLMI_config_VDItest.ini\n",
      "The output file to be created is:  /g/data/r78/eal599/iWQ_aLMI/code_testing_out/aLMI_main.hdf\n",
      "****\n",
      "configLoad:  found config file: ['../ini_files/aLMI_config_VDItest.ini']\n",
      "getConfigOption:  has section 'inputParameters'\n",
      "getConfigOption:  inputParameters has option 'inputSpectrumVarNames'\n",
      "getConfigOption:  has section 'inputParameters'\n",
      "getConfigOption:  inputParameters has option 'useWavelengths'\n",
      "getConfigOption:  has section 'outputParameters'\n",
      "getConfigOption:  outputParameters has option 'outWavelengthLabels'\n",
      "getConfigOption:  has section 'inputParameters'\n",
      "getConfigOption:  inputParameters has option 'tolerance'\n",
      "getConfigOption:  has section 'inputParameters'\n",
      "getConfigOption:  inputParameters has option 'SIOP_SETS_FILE'\n",
      "getConfigOption:  has section 'ggParameters'\n",
      "getConfigOption:  ggParameters has option 'g0'\n",
      "getConfigOption:  has section 'ggParameters'\n",
      "getConfigOption:  ggParameters has option 'g1'\n",
      "getConfigOption:  has section 'inputParameters'\n"
     ]
    }
   ],
   "source": [
    "!head -25 ./log_files/aLMI_main.log"
   ]
  },
  {
   "cell_type": "markdown",
   "metadata": {},
   "source": [
    "The output file of aLMI data generated by the code has also been written to the desired output file:"
   ]
  },
  {
   "cell_type": "code",
   "execution_count": 23,
   "metadata": {},
   "outputs": [
    {
     "name": "stdout",
     "output_type": "stream",
     "text": [
      "-rw-r--r-- 1 eal599 r78 483M Mar 17 14:33 /g/data/r78/eal599/iWQ_aLMI/code_testing_out/aLMI_main.hdf\n"
     ]
    }
   ],
   "source": [
    "!ls -lh $OUTPUT_FILE"
   ]
  },
  {
   "cell_type": "markdown",
   "metadata": {},
   "source": [
    "We can create a text file of the various fields and variables contained within that aLMI output `.hdf` file, which can be further inspected from disk:"
   ]
  },
  {
   "cell_type": "code",
   "execution_count": 24,
   "metadata": {},
   "outputs": [
    {
     "name": "stdout",
     "output_type": "stream",
     "text": [
      "hdp dumpsds -h /g/data/r78/eal599/iWQ_aLMI/code_testing_out/aLMI_main.hdf > /g/data/r78/eal599/iWQ_aLMI/code_testing_out/aLMI_main.hdf.dump\n",
      "\n",
      "==== (Some of the) contents of the aLMI output file ====\n",
      "File name: /g/data/r78/eal599/iWQ_aLMI/code_testing_out/aLMI_main.hdf \n",
      "\n",
      "File attributes:\n",
      "\t Attr0: Name = ATMCORR_VERSION\n",
      "\t\t Type = 8-bit signed char \n",
      "\t\t Count= 12\n",
      "\t\t Value =     20140704\n",
      "\t Attr1: Name = ANN_CREATOR\n",
      "\t\t Type = 8-bit signed char \n",
      "\t\t Count= 16\n",
      "\t\t Value = Thomas_Schroeder\n",
      "\t Attr2: Name = ANN_CREATION_DATE\n",
      "\t\t Type = 8-bit signed char \n",
      "\t\t Count= 24\n",
      "\t\t Value = Sun Jul 20 04:36:09 2014\n",
      "\t Attr3: Name = LMI_VERSION\n",
      "\t\t Type = 8-bit signed char \n",
      "\t\t Count= 28\n",
      "\t\t Value = Python aLMI, Version unknown\n",
      "\t Attr4: Name = CREATOR\n",
      "\t\t Type = 8-bit signed char \n",
      "\t\t Count= 6\n",
      "\t\t Value = eal599\n",
      "\t Attr5: Name = CREATION_DATE\n",
      "\t\t Type = 8-bit signed char \n"
     ]
    }
   ],
   "source": [
    "CMD = \"hdp dumpsds -h \" + OUTPUT_FILE + \" > \" + OUTPUT_FILE + \".dump\"\n",
    "print(CMD)\n",
    "!$CMD\n",
    "\n",
    "print(\"\\n==== (Some of the) contents of the aLMI output file ====\")\n",
    "!head -25 {OUTPUT_FILE}.dump"
   ]
  },
  {
   "cell_type": "markdown",
   "metadata": {},
   "source": [
    "We can also inspect the contents of this `.hdf` file from Python as follows:"
   ]
  },
  {
   "cell_type": "code",
   "execution_count": 25,
   "metadata": {},
   "outputs": [
    {
     "name": "stdout",
     "output_type": "stream",
     "text": [
      "0 longitude\n",
      "1 latitude\n",
      "2 l2_flags\n",
      "3 nn_flags\n",
      "4 Rrs_412\n",
      "5 Rrs_443\n",
      "6 Rrs_488\n",
      "7 Rrs_531\n",
      "8 Rrs_547\n",
      "9 Rrs_667\n",
      "10 Rrs_678\n",
      "11 Rrs_748\n",
      "12 CHL_MIM\n",
      "13 CDOM_MIM\n",
      "14 NAP_MIM\n",
      "15 SIOPindex\n",
      "16 cost_Rrs_below\n",
      "17 a_phy_MIM_441\n",
      "18 a_CDOM_MIM_441\n",
      "19 a_NAP_MIM_441\n",
      "20 a_P_MIM_441\n",
      "21 a_CDM_MIM_441\n",
      "22 a_tot_MIM_441\n",
      "23 bb_phy_MIM_551\n",
      "24 bb_NAP_MIM_551\n",
      "25 bb_P_MIM_551\n",
      "26 Kd_par_MIM\n",
      "27 Kd_490_MIM\n",
      "28 SD_MIM\n",
      "29 Rrs_MIM_412\n",
      "30 Rrs_MIM_441\n",
      "31 Rrs_MIM_488\n",
      "32 Rrs_MIM_531\n",
      "33 Rrs_MIM_551\n",
      "34 Rrs_MIM_667\n",
      "35 Rrs_MIM_678\n",
      "36 Rrs_MIM_748\n",
      "37 Delta_Rrs_below_MIM_412\n",
      "38 Delta_Rrs_below_MIM_441\n",
      "39 Delta_Rrs_below_MIM_488\n",
      "40 Delta_Rrs_below_MIM_531\n",
      "41 Delta_Rrs_below_MIM_551\n",
      "42 Delta_Rrs_below_MIM_667\n",
      "43 Delta_Rrs_below_MIM_678\n",
      "44 Delta_Rrs_below_MIM_748\n"
     ]
    }
   ],
   "source": [
    "import sys\n",
    "sys.path.insert(0,SRC_DIR)   # to be able to import lmi_io as a package\n",
    "import lmi_io\n",
    "SD_handle = lmi_io.generic_io.open(OUTPUT_FILE)\n",
    "\n",
    "### Or alternatively:\n",
    "# from pyhdf.SD import SD, SDC\n",
    "# SD_handle = SD(OUTPUT_FILE, SDC.READ)\n",
    "\n",
    "datasets_dic = SD_handle.datasets()\n",
    "for idx,sds in enumerate(datasets_dic.keys()):\n",
    "    print(idx,sds)"
   ]
  },
  {
   "cell_type": "markdown",
   "metadata": {},
   "source": [
    "For illustration, let's have a closer look at one of the above datasets:"
   ]
  },
  {
   "cell_type": "code",
   "execution_count": 26,
   "metadata": {},
   "outputs": [
    {
     "name": "stdout",
     "output_type": "stream",
     "text": [
      "Dataset size is (lines x pixels): (2100, 1354)\n",
      "\n",
      "Some values from the 'SIOP index' dataset:\n",
      "[[-999 -999    3    0    3    3    3    3    3    3]\n",
      " [-999    3    3    0    3    3    3    0    0    3]\n",
      " [   3    3    3    0    3    3    3    3    0 -999]\n",
      " [   3    3    3    3    3    3    3    3    3 -999]\n",
      " [   3    3    3    3    3    3    3    3    0 -999]\n",
      " [   3    3    3    3    3    3    3    3    0    0]\n",
      " [   1    3 -999 -999    5    3    3    0    1    1]\n",
      " [-999 -999 -999 -999 -999    0    1    1    1    1]\n",
      " [-999 -999 -999 -999 -999    0    6    6    6    1]\n",
      " [-999 -999 -999 -999 -999    0    6    6 -999 -999]]\n"
     ]
    }
   ],
   "source": [
    "sds_obj = SD_handle.select('SIOPindex')    # select the dataset of SIOP indices\n",
    "data = sds_obj.get()    # get the data from this dataset\n",
    "print(\"Dataset size is (lines x pixels):\", data.shape)\n",
    "print(\"\\nSome values from the 'SIOP index' dataset:\")\n",
    "print(data[0:10,1000:1010])"
   ]
  },
  {
   "cell_type": "markdown",
   "metadata": {},
   "source": [
    "For comparison, let's have a look at the contents of the corresponding (example) IDL-based aLMI output (which was generated prior to running this notebook):"
   ]
  },
  {
   "cell_type": "code",
   "execution_count": 27,
   "metadata": {},
   "outputs": [
    {
     "name": "stdout",
     "output_type": "stream",
     "text": [
      "0 longitude\n",
      "1 latitude\n",
      "2 l2_flags\n",
      "3 nn_flags\n",
      "4 Chl_MIM\n",
      "5 CDOM_MIM\n",
      "6 Nap_MIM\n",
      "7 siop_MIM\n",
      "8 dR_MIM\n",
      "9 n_bands\n",
      "10 Kd_par_MIM\n",
      "11 Kd_490_MIM\n",
      "12 SD_MIM\n",
      "13 a_phy_MIM_441\n",
      "14 a_CDOM_MIM_441\n",
      "15 a_NAP_MIM_441\n",
      "16 a_P_MIM_441\n",
      "17 a_CDM_MIM_441\n",
      "18 a_tot_MIM_441\n",
      "19 bb_phy_MIM_551\n",
      "20 bb_NAP_MIM_551\n",
      "21 bb_P_MIM_551\n",
      "22 a_budget_MIM_441\n",
      "23 Rrs_MIM_412\n",
      "24 Rrs_MIM_441\n",
      "25 Rrs_MIM_488\n",
      "26 Rrs_MIM_531\n",
      "27 Rrs_MIM_551\n",
      "28 Rrs_MIM_667\n",
      "29 Rrs_MIM_678\n",
      "30 Rrs_MIM_748\n",
      "31 Delta_Rrs_MIM_412\n",
      "32 Delta_Rrs_MIM_441\n",
      "33 Delta_Rrs_MIM_488\n",
      "34 Delta_Rrs_MIM_531\n",
      "35 Delta_Rrs_MIM_551\n",
      "36 Delta_Rrs_MIM_667\n",
      "37 Delta_Rrs_MIM_678\n",
      "38 Delta_Rrs_MIM_748\n"
     ]
    }
   ],
   "source": [
    "base_dir = \"/g/data/r78/eal599/iWQ_aLMI/data/\"\n",
    "IDL_OUTPUT_FILE = base_dir + \"A20120403_0410.20130805213444.L2.ANN_P134_V20140704.MIM_CLT4_gLee_412_748.hdf\"    # prepared earlier...\n",
    "\n",
    "SD_handle = lmi_io.generic_io.open(IDL_OUTPUT_FILE)\n",
    "datasets_dic = SD_handle.datasets()\n",
    "for idx,sds in enumerate(datasets_dic.keys()):\n",
    "    print(idx,sds)"
   ]
  },
  {
   "cell_type": "markdown",
   "metadata": {},
   "source": [
    "The IDL outputs look similar / identical to those generated by the Python version of the aLMI code.\n",
    "\n",
    "### Main aLMI routine -- in-depth test\n",
    "\n",
    "The shell script `aLMI_main.sh` (within the current `testing` sub-directory) carries out the same test of the main aLMI routine as done above, but in addition, it also creates the `.dump` file of the aLMI output file contents, does a profiling of the code, and provides a comparison with the corresponding IDL-based aLMI outputs (in case a dataset of IDL outputs is provided in the `.ini` configuration file, as parameter `test_IDL_LMI_file`)."
   ]
  },
  {
   "cell_type": "markdown",
   "metadata": {},
   "source": [
    "Let's run this shell script (will take a few minutes):"
   ]
  },
  {
   "cell_type": "code",
   "execution_count": 28,
   "metadata": {},
   "outputs": [
    {
     "name": "stdout",
     "output_type": "stream",
     "text": [
      "The IDL file of aLMI results is: \"/g/data/r78/eal599/iWQ_aLMI/data/A20120403_0410.20130805213444.L2.ANN_P134_V20140704.MIM_CLT4_gLee_412_748.hdf\"\n",
      "\n",
      "real\t6m33.317s\n",
      "user\t5m18.828s\n",
      "sys\t1m14.320s\n",
      "TEST OK\n"
     ]
    }
   ],
   "source": [
    "CONFIG_FILE = SRC_DIR + \"/ini_files/aLMI_config_VDItest.ini\"    # config file\n",
    "INPUT_FILE = SRC_DIR + \"/configUtils.py \" + CONFIG_FILE + \" optionalParameters test_ANN_file\"    # get the aLMI input file from the config file\n",
    "OUTPUT_FILE = \"/g/data/r78/eal599/iWQ_aLMI/code_testing_out/aLMI_main2.hdf\"    # where the data will be written to\n",
    "\n",
    "# for illustration only:\n",
    "IDL_file = SRC_DIR + \"/configUtils.py \" + CONFIG_FILE + \" optionalParameters test_IDL_LMI_file\"    # IDL output file from the config file\n",
    "!echo \"The IDL file of aLMI results is: \\\"`$IDL_file`\\\"\"\n",
    "\n",
    "!./aLMI_main.sh `$INPUT_FILE` $CONFIG_FILE $OUTPUT_FILE -v > ./log_files/aLMI_main2.log; $CHECK_OUTPUT_STR"
   ]
  },
  {
   "cell_type": "markdown",
   "metadata": {},
   "source": [
    "The profiling information, as well the comparison between the Python-based aLMI outputs and the IDL results, can be found in the outputs from `almi_main.sh`, which were logged to a `.log` file. A selection of this `.log` file output (here showing some of the IDL vs. Python aLMI comparison results) is shown below:"
   ]
  },
  {
   "cell_type": "code",
   "execution_count": 29,
   "metadata": {},
   "outputs": [
    {
     "name": "stdout",
     "output_type": "stream",
     "text": [
      "\n",
      "v = ['bb_NAP_MIM_551', -0.2, 'bb_NAP_MIM_551', -999.0, -0.1]\n",
      "number of elements = 2843400\n",
      "\tok lengths differ: 271187 259727 using PY_ok\n",
      "IDL_min = -0.1 IDL_max = 1.3649466 IDL_median = 0.00073116715 IDL_std = 0.023767171\n",
      " PY_min = 0.00023633623  PY_max = 2.8820338  PY_median = 0.0021008593  PY_std = 0.045574818\n",
      "RMS error = 0.022637488644467022 RMS relative error = 30.960757141384338\n",
      "\n",
      "v = ['Kd_par_MIM', -0.2, 'Kd_par_MIM', -999.0, -0.1]\n",
      "number of elements = 2843400\n",
      "\tok lengths differ: 2843400 259727 using PY_ok\n",
      "IDL_min = -1.0 IDL_max = 7.855482 IDL_median = 0.48106474 IDL_std = 0.17036988\n",
      " PY_min = 0.5395853  PY_max = 14.654421  PY_median = 0.5686032  PY_std = 0.2657226\n",
      "RMS error = 0.14466218074498735 RMS relative error = 0.3007125026097327\n",
      "\n",
      "v = ['Kd_490_MIM', -0.2, 'Kd_490_MIM', -999.0, -0.1]\n",
      "number of elements = 2843400\n",
      "\tok lengths differ: 2843400 259727 using PY_ok\n",
      "IDL_min = -1.0 IDL_max = 8.418976 IDL_median = 0.059856065 IDL_std = 0.19681817\n",
      " PY_min = 0.02605452  PY_max = 18.32756  PY_median = 0.050359108  PY_std = 0.3505907\n",
      "RMS error = 0.16039725880341296 RMS relative error = 2.6797160795983115\n",
      "\n",
      "v = ['SD_MIM', -0.2, 'SD_MIM', -999.0, -0.1]\n",
      "number of elements = 2843400\n",
      "\tok lengths differ: 2843400 259727 using PY_ok\n",
      "IDL_min = -1.0 IDL_max = 16.012741 IDL_median = 7.414263 IDL_std = 3.3448825\n",
      " PY_min = 0.035769753  PY_max = 22.419275  PY_median = 7.2462034  PY_std = 3.2709904\n",
      "RMS error = 0.6907553799654296 RMS relative error = 0.09316575379696354\n",
      "Total RMS relative error = 224.42625288063834\n",
      "\n",
      "./compare_LMIs.py done\n",
      "./aLMI_main.sh:  done\n"
     ]
    }
   ],
   "source": [
    "!tail -n32 ./log_files/aLMI_main2.log"
   ]
  },
  {
   "cell_type": "markdown",
   "metadata": {},
   "source": [
    "### \"Unit tests\" -- revisited\n",
    "\n",
    "At the beginning of this notebook, we have executed all the Python code's \"unit tests\" individually, one after the other.\n",
    "\n",
    "The shell script `main_test.sh` (also within the current `testing` sub-directory) automates the processing of running all these tests at once (will take a few minutes due to the `aLMI_main.py` test)."
   ]
  },
  {
   "cell_type": "code",
   "execution_count": 30,
   "metadata": {},
   "outputs": [
    {
     "name": "stdout",
     "output_type": "stream",
     "text": [
      "TEST OK\n"
     ]
    }
   ],
   "source": [
    "OUTPUT_FILE = \"/g/data/r78/eal599/iWQ_aLMI/code_testing_out/aLMI_main3.hdf\"\n",
    "!./main_test.sh `$INPUT_FILE` $CONFIG_FILE $OUTPUT_FILE $VAR_PREFIX > ./log_files/main_test.log; $CHECK_OUTPUT_STR"
   ]
  },
  {
   "cell_type": "markdown",
   "metadata": {},
   "source": [
    "As expected, all tests have passed successfully. Here's confirmation of this:"
   ]
  },
  {
   "cell_type": "code",
   "execution_count": 31,
   "metadata": {},
   "outputs": [
    {
     "name": "stdout",
     "output_type": "stream",
     "text": [
      "***\n",
      "*** Running all tests, including aLMI_main.\n",
      "***\n",
      "*** Setting up ./main_test.sh\n",
      "Testing the aLMI python software on vdi-n18\n",
      "Tests ran at 17/03/20 02:40:13 PM AEDT by eal599\n",
      "*** SETUP ***\n",
      "Input file was: /g/data/r78/eal599/iWQ_aLMI/data/A20120403_0410.20130805213444.L2.ANN_P134_V20140704.hdf\n",
      "Config file was: ../ini_files/aLMI_config_VDItest.ini\n",
      "Output file was: /g/data/r78/eal599/iWQ_aLMI/code_testing_out/aLMI_main3.hdf\n",
      "*** Ready to go. Starting tests. ***\n",
      "+++| PASSED RrsAboveToBelow\n",
      "+++| PASSED RrsBelowToAbove\n",
      "+++| PASSED calcCost\n",
      "+++| PASSED calcReflForward\n",
      "+++| PASSED calcUBackward\n",
      "+++| PASSED calcY\n",
      "+++| PASSED calc_mu_d\n",
      "+++| PASSED svd_LMI\n",
      "+++| PASSED var_dump\n",
      "+++| PASSED configUtils\n",
      "+++| PASSED calc_kd_SD\n",
      "+++| PASSED calcUForward\n",
      "+++| PASSED SIOP_sets_load\n",
      "+++| PASSED wavelengthsToVarNames\n",
      "+++| PASSED chunkProcessLMI\n",
      "*** Testing the aLMI_main script - this will take a few minutes. ***\n",
      "+++| PASSED aLMI_main\n",
      "***\n",
      "*** Tests complete; 16 passed, 0 failed ***\n",
      "***\n",
      "*** For individual log files see /home/599/eal599/_Eric_VDI_/iWQ_aLMI/testing/log_files\n",
      "***\n"
     ]
    }
   ],
   "source": [
    "!cat ./log_files/main_test.log"
   ]
  },
  {
   "cell_type": "markdown",
   "metadata": {},
   "source": [
    "## Testing `.nc` files\n",
    "\n",
    "The Python aLMI code is also able to handle (read and write) NetCDF `.nc` files. \n",
    "\n",
    "Let's test this functionality by again running all the basic \"unit tests\" (excluding `aLMI_main.py` for now, with the `-s` flag below) in `main_test.sh`, but now selecting `.nc` files as input and output parameters (note that many of these tests are not actually influenced by the type of input file, `.nc` or `.hdf`)."
   ]
  },
  {
   "cell_type": "code",
   "execution_count": 32,
   "metadata": {},
   "outputs": [
    {
     "name": "stdout",
     "output_type": "stream",
     "text": [
      "The aLMI input file is: \"/g/data/r78/eal599/iWQ_aLMI/data/A20120403_0410.20150928173107.L2OC_BASE.ANN_P134_V20140704.nc\"\n",
      "TEST OK\n"
     ]
    }
   ],
   "source": [
    "# Select new .nc files as input / output:\n",
    "CONFIG_FILE = SRC_DIR + \"/ini_files/aLMI_config_VDItest_nc.ini\"    # .nc-specific config file\n",
    "INPUT_FILE = SRC_DIR + \"/configUtils.py \" + CONFIG_FILE + \" optionalParameters test_ANN_file\"    # get aLMI input file (.nc) from config parameters\n",
    "OUTPUT_FILE = \"/g/data/r78/eal599/iWQ_aLMI/code_testing_out/aLMI_main4.nc\"    # save data as .nc file\n",
    "VAR_PREFIX = \"Rrs_ANN_\"    # radiance bands prefix string for this .nc file -- only used for testing!\n",
    "\n",
    "!echo \"The aLMI input file is: \\\"`$INPUT_FILE`\\\"\"\n",
    "\n",
    "# Run the tests:\n",
    "!./main_test.sh `$INPUT_FILE` $CONFIG_FILE $OUTPUT_FILE $VAR_PREFIX -s > ./log_files/main_test_nc.log; $CHECK_OUTPUT_STR"
   ]
  },
  {
   "cell_type": "code",
   "execution_count": 33,
   "metadata": {},
   "outputs": [
    {
     "name": "stdout",
     "output_type": "stream",
     "text": [
      "***\n",
      "*** Running the 'unit tests' only.\n",
      "***\n",
      "*** Setting up ./main_test.sh\n",
      "Testing the aLMI python software on vdi-n18\n",
      "Tests ran at 17/03/20 02:44:35 PM AEDT by eal599\n",
      "*** SETUP ***\n",
      "Input file was: /g/data/r78/eal599/iWQ_aLMI/data/A20120403_0410.20150928173107.L2OC_BASE.ANN_P134_V20140704.nc\n",
      "Config file was: ../ini_files/aLMI_config_VDItest_nc.ini\n",
      "Output file was: /g/data/r78/eal599/iWQ_aLMI/code_testing_out/aLMI_main4.nc\n",
      "*** Ready to go. Starting tests. ***\n",
      "+++| PASSED RrsAboveToBelow\n",
      "+++| PASSED RrsBelowToAbove\n",
      "+++| PASSED calcCost\n",
      "+++| PASSED calcReflForward\n",
      "+++| PASSED calcUBackward\n",
      "+++| PASSED calcY\n",
      "+++| PASSED calc_mu_d\n",
      "+++| PASSED svd_LMI\n",
      "+++| PASSED var_dump\n",
      "+++| PASSED configUtils\n",
      "+++| PASSED calc_kd_SD\n",
      "+++| PASSED calcUForward\n",
      "+++| PASSED SIOP_sets_load\n",
      "+++| PASSED wavelengthsToVarNames\n",
      "+++| PASSED chunkProcessLMI\n",
      "***\n",
      "*** Tests complete; 15 passed, 0 failed ***\n",
      "***\n",
      "*** For individual log files see /home/599/eal599/_Eric_VDI_/iWQ_aLMI/testing/log_files\n",
      "***\n"
     ]
    }
   ],
   "source": [
    "!cat ./log_files/main_test_nc.log"
   ]
  },
  {
   "cell_type": "markdown",
   "metadata": {},
   "source": [
    "Let's now test `aLMI_main.py` individually, and time it at the same time:"
   ]
  },
  {
   "cell_type": "code",
   "execution_count": 34,
   "metadata": {},
   "outputs": [
    {
     "name": "stdout",
     "output_type": "stream",
     "text": [
      "../aLMI_main.py:558: RuntimeWarning: invalid value encountered in greater\n",
      "  ok = np.all(input_WL_EL > 0.000001, axis=0)\n",
      "\n",
      "real\t11m48.852s\n",
      "user\t11m35.867s\n",
      "sys\t0m12.735s\n",
      "TEST OK\n"
     ]
    }
   ],
   "source": [
    "### Individual timing of aLMI_main.py, if needed:\n",
    "!time {SRC_DIR}/aLMI_main.py `$INPUT_FILE` $CONFIG_FILE $OUTPUT_FILE -v > ./log_files/aLMI_main.log; $CHECK_OUTPUT_STR"
   ]
  },
  {
   "cell_type": "markdown",
   "metadata": {},
   "source": [
    "Here again, we can create a `.dump` file showing the resulting contents of the output aLMI `.nc` file:"
   ]
  },
  {
   "cell_type": "code",
   "execution_count": 35,
   "metadata": {},
   "outputs": [
    {
     "name": "stdout",
     "output_type": "stream",
     "text": [
      "ncdump -h /g/data/r78/eal599/iWQ_aLMI/code_testing_out/aLMI_main4.nc > /g/data/r78/eal599/iWQ_aLMI/code_testing_out/aLMI_main4.nc.dump\n",
      "\n",
      "==== (Some of the) contents of the aLMI output file ====\n",
      "netcdf aLMI_main4 {\n",
      "dimensions:\n",
      "\tnumberOfLines = 2170 ;\n",
      "\tnumberOfPixelsPerLine = 1354 ;\n",
      "variables:\n",
      "\tfloat longitude(numberOfLines, numberOfPixelsPerLine) ;\n",
      "\t\tlongitude:_FillValue = -32767.f ;\n",
      "\t\tlongitude:long_name = \"longitude at control points\" ;\n",
      "\t\tlongitude:units = \"degree_east\" ;\n",
      "\t\tlongitude:standard_name = \"longitude\" ;\n",
      "\t\tlongitude:valid_min = -180.f ;\n",
      "\t\tlongitude:valid_max = 180.f ;\n",
      "\tfloat latitude(numberOfLines, numberOfPixelsPerLine) ;\n",
      "\t\tlatitude:_FillValue = -32767.f ;\n",
      "\t\tlatitude:long_name = \"latitude at control points\" ;\n",
      "\t\tlatitude:units = \"degree_north\" ;\n",
      "\t\tlatitude:standard_name = \"latitude\" ;\n",
      "\t\tlatitude:valid_min = -90.f ;\n",
      "\t\tlatitude:valid_max = 90.f ;\n",
      "\tint l2_flags(numberOfLines, numberOfPixelsPerLine) ;\n",
      "\t\tl2_flags:long_name = \"Level-2 Processing Flags\" ;\n",
      "\t\tl2_flags:valid_min = -2147483648 ;\n",
      "\t\tl2_flags:valid_max = 2147483647 ;\n",
      "\t\tl2_flags:flag_masks = 1, 2, 4, 8, 16, 32, 64, 128, 256, 512, 1024, 2048, 4096, 8192, 16384, 32768, 65536, 131072, 262144, 524288, 1048576, 2097152, 4194304, 8388608, 16777216, 33554432, 67108864, 134217728, 268435456, 536870912, 1073741824, -2147483648 ;\n",
      "\t\tl2_flags:flag_meanings = \"ATMFAIL LAND PRODWARN HIGLINT HILT HISATZEN COASTZ SPARE STRAYLIGHT CLDICE COCCOLITH TURBIDW HISOLZEN SPARE LOWLW CHLFAIL NAVWARN ABSAER SPARE MAXAERITER MODGLINT CHLWARN ATMWARN SPARE SEAICE NAVFAIL FILTER SPARE SPARE HIPOL PRODFAIL SPARE\" ;\n"
     ]
    }
   ],
   "source": [
    "CMD = \"ncdump -h \" + OUTPUT_FILE + \" > \" + OUTPUT_FILE + \".dump\"\n",
    "print(CMD)\n",
    "!$CMD\n",
    "\n",
    "print(\"\\n==== (Some of the) contents of the aLMI output file ====\")\n",
    "!head -25 {OUTPUT_FILE}.dump"
   ]
  },
  {
   "cell_type": "markdown",
   "metadata": {},
   "source": [
    "## 9 tests\n",
    "\n",
    "Finally, the `testing` shell script `9_tests.sh` was written to test the main aLMI code with all nine combinations of `inputType` and `outputType` parameters in the config `.ini` file (i.e. one of `reflAboveSurf`, `reflBelowSurf`, `uIopRatio`). This code can be run as follows, for a `.hdf` input file (**note**: takes a long time to run):"
   ]
  },
  {
   "cell_type": "code",
   "execution_count": 36,
   "metadata": {},
   "outputs": [
    {
     "name": "stdout",
     "output_type": "stream",
     "text": [
      "TEST OK\n"
     ]
    }
   ],
   "source": [
    "CONFIG_FILE = SRC_DIR + \"/ini_files/aLMI_config_VDItest.ini\"    # config file\n",
    "INPUT_FILE = SRC_DIR + \"/configUtils.py \" + CONFIG_FILE + \" optionalParameters test_ANN_file\"    # get the aLMI input file from the config file\n",
    "OUTPUT_DIR = \"/g/data/r78/eal599/iWQ_aLMI/code_testing_out/9_tests\"    # where the data will be written\n",
    "\n",
    "!./9_tests.sh `$INPUT_FILE` $CONFIG_FILE $OUTPUT_DIR -v > ./log_files_9_tests/9_tests.log; $CHECK_OUTPUT_STR"
   ]
  },
  {
   "cell_type": "code",
   "execution_count": 37,
   "metadata": {},
   "outputs": [
    {
     "name": "stdout",
     "output_type": "stream",
     "text": [
      "Testing the aLMI python software (9_tests) on vdi-n18\n",
      "Tests ran at 17/03/20 02:56:34 PM AEDT by eal599\n",
      "*** SETUP ***\n",
      "Input file was: /g/data/r78/eal599/iWQ_aLMI/data/A20120403_0410.20130805213444.L2.ANN_P134_V20140704.hdf\n",
      "Config file was: ../ini_files/aLMI_config_VDItest.ini\n",
      "Output dir was: /g/data/r78/eal599/iWQ_aLMI/code_testing_out/9_tests\n",
      "*** Ready to go. Starting tests. ***\n",
      "+++| PASSED reflAboveSurfIn_reflAboveSurfOut\n",
      "+++| PASSED reflAboveSurfIn_reflBelowSurfOut\n",
      "+++| PASSED reflAboveSurfIn_uIopRatioOut\n",
      "+++| PASSED reflBelowSurfIn_reflAboveSurfOut\n",
      "+++| PASSED reflBelowSurfIn_reflBelowSurfOut\n",
      "+++| PASSED reflBelowSurfIn_uIopRatioOut\n",
      "+++| PASSED uIopRatioIn_reflAboveSurfOut\n",
      "+++| PASSED uIopRatioIn_reflBelowSurfOut\n",
      "+++| PASSED uIopRatioIn_uIopRatioOut\n",
      "***\n",
      "*** 9_tests complete; 9 passed, 0 failed ***\n",
      "***\n",
      "*** For individual log files see ./log_files_9_tests\n",
      "***\n"
     ]
    }
   ],
   "source": [
    "!cat ./log_files_9_tests/9_tests.log"
   ]
  }
 ],
 "metadata": {
  "kernelspec": {
   "display_name": "Python 3",
   "language": "python",
   "name": "python3"
  },
  "language_info": {
   "codemirror_mode": {
    "name": "ipython",
    "version": 3
   },
   "file_extension": ".py",
   "mimetype": "text/x-python",
   "name": "python",
   "nbconvert_exporter": "python",
   "pygments_lexer": "ipython3",
   "version": "3.6.7"
  }
 },
 "nbformat": 4,
 "nbformat_minor": 4
}
